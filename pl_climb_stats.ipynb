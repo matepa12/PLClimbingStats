{
 "cells": [
  {
   "cell_type": "markdown",
   "id": "expensive-craft",
   "metadata": {},
   "source": [
    "# Sport climbing situation in Poland"
   ]
  },
  {
   "cell_type": "markdown",
   "id": "polished-scratch",
   "metadata": {},
   "source": [
    "In this project I would like to extract some in-depth knowledge about sport climbing situation in Poland. The base of my project will be data web scrapped from site 'wspinanie.pl'. The site provides large database of climbing routes in Poland and abroad. I will put my interest specifically on the most popular Polish climbing area - Jura Krakowsko-Częstochowska. Let's begin!"
   ]
  },
  {
   "cell_type": "markdown",
   "id": "representative-enlargement",
   "metadata": {},
   "source": [
    "The first step would be importing important packages."
   ]
  },
  {
   "cell_type": "code",
   "execution_count": 1,
   "id": "valuable-cookbook",
   "metadata": {},
   "outputs": [],
   "source": [
    "import numpy as np\n",
    "import pandas as pd\n",
    "%matplotlib inline"
   ]
  },
  {
   "cell_type": "markdown",
   "id": "handmade-brunei",
   "metadata": {},
   "source": [
    "The next step would be importing database into the project as pandas dataframe. Database called 'data.csv' is file created by Python script called 'web_scraping.py'. Both are placed in the 'PLClimbingStats' folder."
   ]
  },
  {
   "cell_type": "code",
   "execution_count": 2,
   "id": "informal-bangladesh",
   "metadata": {},
   "outputs": [
    {
     "data": {
      "text/html": [
       "<div>\n",
       "<style scoped>\n",
       "    .dataframe tbody tr th:only-of-type {\n",
       "        vertical-align: middle;\n",
       "    }\n",
       "\n",
       "    .dataframe tbody tr th {\n",
       "        vertical-align: top;\n",
       "    }\n",
       "\n",
       "    .dataframe thead th {\n",
       "        text-align: right;\n",
       "    }\n",
       "</style>\n",
       "<table border=\"1\" class=\"dataframe\">\n",
       "  <thead>\n",
       "    <tr style=\"text-align: right;\">\n",
       "      <th></th>\n",
       "      <th>Nazwa</th>\n",
       "      <th>Rejon</th>\n",
       "      <th>Skała</th>\n",
       "      <th>Wysokość</th>\n",
       "      <th>Trudność</th>\n",
       "      <th>Orientacja</th>\n",
       "      <th>Ubezpieczenie</th>\n",
       "    </tr>\n",
       "  </thead>\n",
       "  <tbody>\n",
       "    <tr>\n",
       "      <th>0</th>\n",
       "      <td>Bramki Na Wyjeździe Liczą Się Podwójnie</td>\n",
       "      <td>Karniowickie Skały</td>\n",
       "      <td>Trybuna A</td>\n",
       "      <td>6</td>\n",
       "      <td>V+</td>\n",
       "      <td>pionowa</td>\n",
       "      <td>ubezpieczona</td>\n",
       "    </tr>\n",
       "    <tr>\n",
       "      <th>1</th>\n",
       "      <td>Cześć i dziękuję za ryby</td>\n",
       "      <td>Apteka</td>\n",
       "      <td>Apteka - ściana północno-wschodnia</td>\n",
       "      <td>22</td>\n",
       "      <td>IV+</td>\n",
       "      <td>pionowa</td>\n",
       "      <td>ubezpieczona</td>\n",
       "    </tr>\n",
       "    <tr>\n",
       "      <th>2</th>\n",
       "      <td>Debiut w Dubiu</td>\n",
       "      <td>Dolina Racławki</td>\n",
       "      <td>Jupiter</td>\n",
       "      <td>14</td>\n",
       "      <td>V</td>\n",
       "      <td>pionowa</td>\n",
       "      <td>ubezpieczona</td>\n",
       "    </tr>\n",
       "    <tr>\n",
       "      <th>3</th>\n",
       "      <td>Drobne cwaniaczki</td>\n",
       "      <td>Góra Zamkowa</td>\n",
       "      <td>Biały Filar i Dziurawa</td>\n",
       "      <td>15</td>\n",
       "      <td>VI.2</td>\n",
       "      <td>pionowa</td>\n",
       "      <td>ubezpieczona</td>\n",
       "    </tr>\n",
       "    <tr>\n",
       "      <th>4</th>\n",
       "      <td>Droga Bały (2 wyciąg)</td>\n",
       "      <td>Sokolica</td>\n",
       "      <td>Sokolica</td>\n",
       "      <td>30</td>\n",
       "      <td>IV</td>\n",
       "      <td>pionowa</td>\n",
       "      <td>asekuracja własna</td>\n",
       "    </tr>\n",
       "  </tbody>\n",
       "</table>\n",
       "</div>"
      ],
      "text/plain": [
       "                                     Nazwa               Rejon  \\\n",
       "0  Bramki Na Wyjeździe Liczą Się Podwójnie  Karniowickie Skały   \n",
       "1                 Cześć i dziękuję za ryby              Apteka   \n",
       "2                           Debiut w Dubiu     Dolina Racławki   \n",
       "3                        Drobne cwaniaczki        Góra Zamkowa   \n",
       "4                    Droga Bały (2 wyciąg)            Sokolica   \n",
       "\n",
       "                                Skała  Wysokość Trudność Orientacja  \\\n",
       "0                           Trybuna A         6       V+    pionowa   \n",
       "1  Apteka - ściana północno-wschodnia        22      IV+    pionowa   \n",
       "2                             Jupiter        14        V    pionowa   \n",
       "3              Biały Filar i Dziurawa        15     VI.2    pionowa   \n",
       "4                            Sokolica        30       IV    pionowa   \n",
       "\n",
       "       Ubezpieczenie  \n",
       "0       ubezpieczona  \n",
       "1       ubezpieczona  \n",
       "2       ubezpieczona  \n",
       "3       ubezpieczona  \n",
       "4  asekuracja własna  "
      ]
     },
     "execution_count": 2,
     "metadata": {},
     "output_type": "execute_result"
    }
   ],
   "source": [
    "df = pd.read_csv('data.csv', names=['Nazwa', 'Rejon', 'Skała', 'Wysokość', 'Trudność', 'Orientacja', 'Ubezpieczenie'])\n",
    "df.head()"
   ]
  },
  {
   "cell_type": "code",
   "execution_count": 3,
   "id": "seeing-jenny",
   "metadata": {},
   "outputs": [
    {
     "data": {
      "text/plain": [
       "7148"
      ]
     },
     "execution_count": 3,
     "metadata": {},
     "output_type": "execute_result"
    }
   ],
   "source": [
    "len(df)"
   ]
  },
  {
   "cell_type": "markdown",
   "id": "english-reunion",
   "metadata": {},
   "source": [
    "Loaded dataframe consists of 7 columns and 7148 rows. I used attibute 'names=' to specify column names, because data.csv doesn't provide ones."
   ]
  },
  {
   "cell_type": "markdown",
   "id": "strange-hanging",
   "metadata": {},
   "source": [
    "In the next step I need to remove obviously wrong rows. To proceed, I'm going to take a look into routes unique height and difficulty values."
   ]
  },
  {
   "cell_type": "code",
   "execution_count": 4,
   "id": "medical-burlington",
   "metadata": {},
   "outputs": [
    {
     "data": {
      "text/plain": [
       "[0,\n",
       " 1,\n",
       " 2,\n",
       " 3,\n",
       " 4,\n",
       " 5,\n",
       " 6,\n",
       " 7,\n",
       " 8,\n",
       " 9,\n",
       " 10,\n",
       " 11,\n",
       " 12,\n",
       " 13,\n",
       " 14,\n",
       " 15,\n",
       " 16,\n",
       " 17,\n",
       " 18,\n",
       " 19,\n",
       " 20,\n",
       " 21,\n",
       " 22,\n",
       " 23,\n",
       " 24,\n",
       " 25,\n",
       " 26,\n",
       " 27,\n",
       " 28,\n",
       " 29,\n",
       " 30,\n",
       " 32,\n",
       " 34,\n",
       " 35,\n",
       " 40,\n",
       " 45,\n",
       " 50,\n",
       " 55,\n",
       " 60]"
      ]
     },
     "execution_count": 4,
     "metadata": {},
     "output_type": "execute_result"
    }
   ],
   "source": [
    "sorted(df['Wysokość'].unique())"
   ]
  },
  {
   "cell_type": "code",
   "execution_count": 5,
   "id": "blank-slovak",
   "metadata": {},
   "outputs": [
    {
     "data": {
      "text/plain": [
       "['6c',\n",
       " '6c+',\n",
       " '7a',\n",
       " '7a+',\n",
       " '7b+',\n",
       " '?',\n",
       " 'I',\n",
       " 'II',\n",
       " 'III',\n",
       " 'III+',\n",
       " 'IV',\n",
       " 'IV+',\n",
       " 'IV-',\n",
       " 'V',\n",
       " 'V+',\n",
       " 'V-',\n",
       " 'VI',\n",
       " 'VI+',\n",
       " 'VI+/1',\n",
       " 'VI-',\n",
       " 'VI.1',\n",
       " 'VI.1+',\n",
       " 'VI.1+/2',\n",
       " 'VI.2',\n",
       " 'VI.2+',\n",
       " 'VI.2+/3',\n",
       " 'VI.2/2+',\n",
       " 'VI.3',\n",
       " 'VI.3+',\n",
       " 'VI.3+/4',\n",
       " 'VI.3/3+',\n",
       " 'VI.4',\n",
       " 'VI.4+',\n",
       " 'VI.4+/5',\n",
       " 'VI.4/4+',\n",
       " 'VI.5',\n",
       " 'VI.5+',\n",
       " 'VI.5+/6',\n",
       " 'VI.5/5+',\n",
       " 'VI.6',\n",
       " 'VI.6+',\n",
       " 'VI.6+/7',\n",
       " 'VI.6/6+',\n",
       " 'VI.7',\n",
       " 'VI.7+',\n",
       " 'VI.7/7+',\n",
       " 'VI.8']"
      ]
     },
     "execution_count": 5,
     "metadata": {},
     "output_type": "execute_result"
    }
   ],
   "source": [
    "sorted(df['Trudność'].unique())"
   ]
  },
  {
   "cell_type": "markdown",
   "id": "champion-invitation",
   "metadata": {},
   "source": [
    "Positions including route height from 0 to 2 meters and difficulty of \"?\" are obviously wrong and will be removed. I will also remove rows with difficulty desribed in other scales than \"Kurtyka's Scale\", since they are not used in Poland. "
   ]
  },
  {
   "cell_type": "code",
   "execution_count": 6,
   "id": "oriented-qatar",
   "metadata": {},
   "outputs": [],
   "source": [
    "df = df[~df['Trudność'].isin(['6c', '6c+', '7a', '7a+', '7b+', '?'])]\n",
    "df = df[~df['Wysokość'].isin([0, 1, 2])]"
   ]
  },
  {
   "cell_type": "code",
   "execution_count": 7,
   "id": "restricted-technique",
   "metadata": {},
   "outputs": [
    {
     "data": {
      "text/plain": [
       "365"
      ]
     },
     "execution_count": 7,
     "metadata": {},
     "output_type": "execute_result"
    }
   ],
   "source": [
    "7148 - len(df)"
   ]
  },
  {
   "cell_type": "markdown",
   "id": "executive-bailey",
   "metadata": {},
   "source": [
    "I managed to reduce dataframe by 365 corrupted rows. It's time get some basic knowledge out of our database. Let's see what are highest and most difficult climbing routes."
   ]
  },
  {
   "cell_type": "code",
   "execution_count": 8,
   "id": "unknown-commission",
   "metadata": {},
   "outputs": [
    {
     "data": {
      "text/html": [
       "<div>\n",
       "<style scoped>\n",
       "    .dataframe tbody tr th:only-of-type {\n",
       "        vertical-align: middle;\n",
       "    }\n",
       "\n",
       "    .dataframe tbody tr th {\n",
       "        vertical-align: top;\n",
       "    }\n",
       "\n",
       "    .dataframe thead th {\n",
       "        text-align: right;\n",
       "    }\n",
       "</style>\n",
       "<table border=\"1\" class=\"dataframe\">\n",
       "  <thead>\n",
       "    <tr style=\"text-align: right;\">\n",
       "      <th></th>\n",
       "      <th>Nazwa</th>\n",
       "      <th>Rejon</th>\n",
       "      <th>Skała</th>\n",
       "      <th>Wysokość</th>\n",
       "      <th>Trudność</th>\n",
       "      <th>Orientacja</th>\n",
       "      <th>Ubezpieczenie</th>\n",
       "    </tr>\n",
       "  </thead>\n",
       "  <tbody>\n",
       "    <tr>\n",
       "      <th>3030</th>\n",
       "      <td>Lewy Komin</td>\n",
       "      <td>Sokolica</td>\n",
       "      <td>Sokolica</td>\n",
       "      <td>60</td>\n",
       "      <td>V</td>\n",
       "      <td>mieszana</td>\n",
       "      <td>ubezpieczona</td>\n",
       "    </tr>\n",
       "    <tr>\n",
       "      <th>856</th>\n",
       "      <td>Cech rzemiosł różnych</td>\n",
       "      <td>Zimny Dół</td>\n",
       "      <td>Łysina</td>\n",
       "      <td>55</td>\n",
       "      <td>VI-</td>\n",
       "      <td>pionowa</td>\n",
       "      <td>ubezpieczona</td>\n",
       "    </tr>\n",
       "    <tr>\n",
       "      <th>5996</th>\n",
       "      <td>Syndrom póły</td>\n",
       "      <td>Zimny Dół</td>\n",
       "      <td>Łysina</td>\n",
       "      <td>55</td>\n",
       "      <td>VI+/1</td>\n",
       "      <td>pionowa</td>\n",
       "      <td>ubezpieczona</td>\n",
       "    </tr>\n",
       "    <tr>\n",
       "      <th>6241</th>\n",
       "      <td>Trawers Sadystówki</td>\n",
       "      <td>Zakrzówek</td>\n",
       "      <td>Sadystówka</td>\n",
       "      <td>50</td>\n",
       "      <td>VI.3</td>\n",
       "      <td>pionowa</td>\n",
       "      <td>boulder</td>\n",
       "    </tr>\n",
       "    <tr>\n",
       "      <th>5953</th>\n",
       "      <td>Superdirettissima</td>\n",
       "      <td>Sokolica</td>\n",
       "      <td>Sokolica</td>\n",
       "      <td>50</td>\n",
       "      <td>VI.4+</td>\n",
       "      <td>pionowa</td>\n",
       "      <td>ubezpieczona</td>\n",
       "    </tr>\n",
       "    <tr>\n",
       "      <th>1278</th>\n",
       "      <td>Droga Gruchy</td>\n",
       "      <td>Brodło</td>\n",
       "      <td>Brodło</td>\n",
       "      <td>50</td>\n",
       "      <td>IV+</td>\n",
       "      <td>pionowa</td>\n",
       "      <td>asekuracja własna</td>\n",
       "    </tr>\n",
       "    <tr>\n",
       "      <th>1036</th>\n",
       "      <td>Czerwone światła na Mt. Cassino</td>\n",
       "      <td>Sokolica</td>\n",
       "      <td>Sokolica</td>\n",
       "      <td>45</td>\n",
       "      <td>VI.5/5+</td>\n",
       "      <td>pionowa</td>\n",
       "      <td>ubezpieczona</td>\n",
       "    </tr>\n",
       "    <tr>\n",
       "      <th>1838</th>\n",
       "      <td>Golumek Konfucjusz Kurt</td>\n",
       "      <td>Sokolica</td>\n",
       "      <td>Sokolica</td>\n",
       "      <td>45</td>\n",
       "      <td>VI.5</td>\n",
       "      <td>pionowa</td>\n",
       "      <td>ubezpieczona</td>\n",
       "    </tr>\n",
       "    <tr>\n",
       "      <th>6650</th>\n",
       "      <td>Wiosenne Palenie Trawy</td>\n",
       "      <td>Sokolica</td>\n",
       "      <td>Sokolica</td>\n",
       "      <td>45</td>\n",
       "      <td>VI.2</td>\n",
       "      <td>pionowa</td>\n",
       "      <td>ubezpieczona</td>\n",
       "    </tr>\n",
       "    <tr>\n",
       "      <th>6644</th>\n",
       "      <td>Wimbledon</td>\n",
       "      <td>Zimny Dół</td>\n",
       "      <td>Łysina</td>\n",
       "      <td>40</td>\n",
       "      <td>VI.3+</td>\n",
       "      <td>mieszana</td>\n",
       "      <td>ubezpieczona</td>\n",
       "    </tr>\n",
       "    <tr>\n",
       "      <th>1889</th>\n",
       "      <td>Grań Bolechowicka</td>\n",
       "      <td>Ostra Turniczka i Turnia Łazików</td>\n",
       "      <td>Ostra Turniczka</td>\n",
       "      <td>40</td>\n",
       "      <td>III</td>\n",
       "      <td>połoga</td>\n",
       "      <td>asekuracja własna</td>\n",
       "    </tr>\n",
       "    <tr>\n",
       "      <th>3354</th>\n",
       "      <td>Mikrokosmos</td>\n",
       "      <td>Sokolica</td>\n",
       "      <td>Sokolica</td>\n",
       "      <td>40</td>\n",
       "      <td>VI.4+</td>\n",
       "      <td>pionowa</td>\n",
       "      <td>ubezpieczona</td>\n",
       "    </tr>\n",
       "    <tr>\n",
       "      <th>1190</th>\n",
       "      <td>Do Okoła</td>\n",
       "      <td>Gaudynowskie Skały</td>\n",
       "      <td>Gaudynowskie Skały</td>\n",
       "      <td>35</td>\n",
       "      <td>VI+</td>\n",
       "      <td>pionowa</td>\n",
       "      <td>mieszana</td>\n",
       "    </tr>\n",
       "    <tr>\n",
       "      <th>1348</th>\n",
       "      <td>Droga z Zawodów</td>\n",
       "      <td>Brodło</td>\n",
       "      <td>Brodło</td>\n",
       "      <td>35</td>\n",
       "      <td>IV+</td>\n",
       "      <td>mieszana</td>\n",
       "      <td>ubezpieczona</td>\n",
       "    </tr>\n",
       "    <tr>\n",
       "      <th>6847</th>\n",
       "      <td>Zacięcie Pytajnika</td>\n",
       "      <td>Grupa Pytajników</td>\n",
       "      <td>Pytajnik</td>\n",
       "      <td>35</td>\n",
       "      <td>V</td>\n",
       "      <td>pionowa</td>\n",
       "      <td>asekuracja własna</td>\n",
       "    </tr>\n",
       "    <tr>\n",
       "      <th>7062</th>\n",
       "      <td>Życie Na Gorąco</td>\n",
       "      <td>Jastrzębnik</td>\n",
       "      <td>Jastrzębnik</td>\n",
       "      <td>35</td>\n",
       "      <td>VI+</td>\n",
       "      <td>pionowa</td>\n",
       "      <td>asekuracja własna</td>\n",
       "    </tr>\n",
       "    <tr>\n",
       "      <th>2213</th>\n",
       "      <td>Jura siempre</td>\n",
       "      <td>Mur Pokutników</td>\n",
       "      <td>Mur Pokutników</td>\n",
       "      <td>35</td>\n",
       "      <td>VI.4+</td>\n",
       "      <td>mieszana</td>\n",
       "      <td>ubezpieczona</td>\n",
       "    </tr>\n",
       "    <tr>\n",
       "      <th>2359</th>\n",
       "      <td>King Kong</td>\n",
       "      <td>Kozłowe Skały</td>\n",
       "      <td>Kręta</td>\n",
       "      <td>35</td>\n",
       "      <td>VI.5</td>\n",
       "      <td>pionowa</td>\n",
       "      <td>ubezpieczona</td>\n",
       "    </tr>\n",
       "    <tr>\n",
       "      <th>4600</th>\n",
       "      <td>Prawy Komin (1. wyciąg)</td>\n",
       "      <td>Sokolica</td>\n",
       "      <td>Sokolica</td>\n",
       "      <td>35</td>\n",
       "      <td>VI+</td>\n",
       "      <td>pionowa</td>\n",
       "      <td>ubezpieczona</td>\n",
       "    </tr>\n",
       "    <tr>\n",
       "      <th>2480</th>\n",
       "      <td>Komin Melquiadesa</td>\n",
       "      <td>Dolina Brzoskwinki</td>\n",
       "      <td>Cygańska</td>\n",
       "      <td>35</td>\n",
       "      <td>VI</td>\n",
       "      <td>pionowa</td>\n",
       "      <td>ubezpieczona</td>\n",
       "    </tr>\n",
       "  </tbody>\n",
       "</table>\n",
       "</div>"
      ],
      "text/plain": [
       "                                Nazwa                             Rejon  \\\n",
       "3030                       Lewy Komin                          Sokolica   \n",
       "856             Cech rzemiosł różnych                         Zimny Dół   \n",
       "5996                     Syndrom póły                         Zimny Dół   \n",
       "6241               Trawers Sadystówki                         Zakrzówek   \n",
       "5953                Superdirettissima                          Sokolica   \n",
       "1278                     Droga Gruchy                            Brodło   \n",
       "1036  Czerwone światła na Mt. Cassino                          Sokolica   \n",
       "1838          Golumek Konfucjusz Kurt                          Sokolica   \n",
       "6650           Wiosenne Palenie Trawy                          Sokolica   \n",
       "6644                        Wimbledon                         Zimny Dół   \n",
       "1889                Grań Bolechowicka  Ostra Turniczka i Turnia Łazików   \n",
       "3354                      Mikrokosmos                          Sokolica   \n",
       "1190                         Do Okoła                Gaudynowskie Skały   \n",
       "1348                  Droga z Zawodów                            Brodło   \n",
       "6847               Zacięcie Pytajnika                  Grupa Pytajników   \n",
       "7062                  Życie Na Gorąco                       Jastrzębnik   \n",
       "2213                     Jura siempre                    Mur Pokutników   \n",
       "2359                        King Kong                     Kozłowe Skały   \n",
       "4600          Prawy Komin (1. wyciąg)                          Sokolica   \n",
       "2480                Komin Melquiadesa                Dolina Brzoskwinki   \n",
       "\n",
       "                   Skała  Wysokość Trudność Orientacja      Ubezpieczenie  \n",
       "3030            Sokolica        60        V   mieszana       ubezpieczona  \n",
       "856               Łysina        55      VI-    pionowa       ubezpieczona  \n",
       "5996              Łysina        55    VI+/1    pionowa       ubezpieczona  \n",
       "6241          Sadystówka        50     VI.3    pionowa            boulder  \n",
       "5953            Sokolica        50    VI.4+    pionowa       ubezpieczona  \n",
       "1278              Brodło        50      IV+    pionowa  asekuracja własna  \n",
       "1036            Sokolica        45  VI.5/5+    pionowa       ubezpieczona  \n",
       "1838            Sokolica        45     VI.5    pionowa       ubezpieczona  \n",
       "6650            Sokolica        45     VI.2    pionowa       ubezpieczona  \n",
       "6644              Łysina        40    VI.3+   mieszana       ubezpieczona  \n",
       "1889     Ostra Turniczka        40      III     połoga  asekuracja własna  \n",
       "3354            Sokolica        40    VI.4+    pionowa       ubezpieczona  \n",
       "1190  Gaudynowskie Skały        35      VI+    pionowa           mieszana  \n",
       "1348              Brodło        35      IV+   mieszana       ubezpieczona  \n",
       "6847            Pytajnik        35        V    pionowa  asekuracja własna  \n",
       "7062         Jastrzębnik        35      VI+    pionowa  asekuracja własna  \n",
       "2213      Mur Pokutników        35    VI.4+   mieszana       ubezpieczona  \n",
       "2359               Kręta        35     VI.5    pionowa       ubezpieczona  \n",
       "4600            Sokolica        35      VI+    pionowa       ubezpieczona  \n",
       "2480            Cygańska        35       VI    pionowa       ubezpieczona  "
      ]
     },
     "execution_count": 8,
     "metadata": {},
     "output_type": "execute_result"
    }
   ],
   "source": [
    "df.sort_values(by='Wysokość', ascending=False).head(20)"
   ]
  },
  {
   "cell_type": "code",
   "execution_count": 9,
   "id": "declared-confusion",
   "metadata": {},
   "outputs": [
    {
     "data": {
      "text/html": [
       "<div>\n",
       "<style scoped>\n",
       "    .dataframe tbody tr th:only-of-type {\n",
       "        vertical-align: middle;\n",
       "    }\n",
       "\n",
       "    .dataframe tbody tr th {\n",
       "        vertical-align: top;\n",
       "    }\n",
       "\n",
       "    .dataframe thead th {\n",
       "        text-align: right;\n",
       "    }\n",
       "</style>\n",
       "<table border=\"1\" class=\"dataframe\">\n",
       "  <thead>\n",
       "    <tr style=\"text-align: right;\">\n",
       "      <th></th>\n",
       "      <th>Nazwa</th>\n",
       "      <th>Rejon</th>\n",
       "      <th>Skała</th>\n",
       "      <th>Wysokość</th>\n",
       "      <th>Trudność</th>\n",
       "      <th>Orientacja</th>\n",
       "      <th>Ubezpieczenie</th>\n",
       "    </tr>\n",
       "  </thead>\n",
       "  <tbody>\n",
       "    <tr>\n",
       "      <th>3142</th>\n",
       "      <td>Made in Poland</td>\n",
       "      <td>Góra Zamkowa</td>\n",
       "      <td>Wielka Cima</td>\n",
       "      <td>30</td>\n",
       "      <td>VI.8</td>\n",
       "      <td>mieszana</td>\n",
       "      <td>ubezpieczona</td>\n",
       "    </tr>\n",
       "    <tr>\n",
       "      <th>5797</th>\n",
       "      <td>Sprawa honoru</td>\n",
       "      <td>Grupa Mamutowej Skały</td>\n",
       "      <td>Jaskinia Mamutowa</td>\n",
       "      <td>30</td>\n",
       "      <td>VI.8</td>\n",
       "      <td>mieszana</td>\n",
       "      <td>ubezpieczona</td>\n",
       "    </tr>\n",
       "    <tr>\n",
       "      <th>192</th>\n",
       "      <td>Arachnofobia</td>\n",
       "      <td>Okręt</td>\n",
       "      <td>Okręt</td>\n",
       "      <td>14</td>\n",
       "      <td>VI.8</td>\n",
       "      <td>pionowa</td>\n",
       "      <td>ubezpieczona</td>\n",
       "    </tr>\n",
       "    <tr>\n",
       "      <th>4055</th>\n",
       "      <td>Pandemonium</td>\n",
       "      <td>Gołębnik</td>\n",
       "      <td>Gołębnik</td>\n",
       "      <td>25</td>\n",
       "      <td>VI.8</td>\n",
       "      <td>mieszana</td>\n",
       "      <td>ubezpieczona</td>\n",
       "    </tr>\n",
       "    <tr>\n",
       "      <th>3778</th>\n",
       "      <td>Nieznośna lekkość bytu</td>\n",
       "      <td>Grupa Mamutowej Skały</td>\n",
       "      <td>Jaskinia Mamutowa</td>\n",
       "      <td>25</td>\n",
       "      <td>VI.7/7+</td>\n",
       "      <td>przewieszona</td>\n",
       "      <td>ubezpieczona</td>\n",
       "    </tr>\n",
       "    <tr>\n",
       "      <th>207</th>\n",
       "      <td>Atak bezzębnego szkraba</td>\n",
       "      <td>Rejon Dziewicy</td>\n",
       "      <td>Dziewica</td>\n",
       "      <td>15</td>\n",
       "      <td>VI.7+</td>\n",
       "      <td>przewieszona</td>\n",
       "      <td>ubezpieczona</td>\n",
       "    </tr>\n",
       "    <tr>\n",
       "      <th>6006</th>\n",
       "      <td>Szaleństwo ludzi zdrowych</td>\n",
       "      <td>Grupa Mamutowej Skały</td>\n",
       "      <td>Jaskinia Mamutowa</td>\n",
       "      <td>25</td>\n",
       "      <td>VI.7+</td>\n",
       "      <td>przewieszona</td>\n",
       "      <td>ubezpieczona</td>\n",
       "    </tr>\n",
       "    <tr>\n",
       "      <th>4396</th>\n",
       "      <td>Power of Love 1/2</td>\n",
       "      <td>Góra Zamkowa</td>\n",
       "      <td>Wielka Cima</td>\n",
       "      <td>20</td>\n",
       "      <td>VI.7+</td>\n",
       "      <td>mieszana</td>\n",
       "      <td>ubezpieczona</td>\n",
       "    </tr>\n",
       "    <tr>\n",
       "      <th>2844</th>\n",
       "      <td>Las Vegas Parano</td>\n",
       "      <td>Grupa Mamutowej Skały</td>\n",
       "      <td>Jaskinia Mamutowa</td>\n",
       "      <td>28</td>\n",
       "      <td>VI.7+</td>\n",
       "      <td>mieszana</td>\n",
       "      <td>ubezpieczona</td>\n",
       "    </tr>\n",
       "    <tr>\n",
       "      <th>6081</th>\n",
       "      <td>Szydercze zwierciadło</td>\n",
       "      <td>Zapad</td>\n",
       "      <td>Zapad</td>\n",
       "      <td>14</td>\n",
       "      <td>VI.7+</td>\n",
       "      <td>mieszana</td>\n",
       "      <td>ubezpieczona</td>\n",
       "    </tr>\n",
       "    <tr>\n",
       "      <th>3692</th>\n",
       "      <td>Nie dla psa kiełbasa</td>\n",
       "      <td>Pochylec</td>\n",
       "      <td>Pochylec</td>\n",
       "      <td>28</td>\n",
       "      <td>VI.7</td>\n",
       "      <td>mieszana</td>\n",
       "      <td>ubezpieczona</td>\n",
       "    </tr>\n",
       "    <tr>\n",
       "      <th>4922</th>\n",
       "      <td>Prowokacja</td>\n",
       "      <td>Góra Zamkowa</td>\n",
       "      <td>Lalka, Sfinks i Kapa</td>\n",
       "      <td>9</td>\n",
       "      <td>VI.7</td>\n",
       "      <td>przewieszona</td>\n",
       "      <td>ubezpieczona</td>\n",
       "    </tr>\n",
       "    <tr>\n",
       "      <th>4561</th>\n",
       "      <td>Prawie wszystko na sprzedaż</td>\n",
       "      <td>Góra Zamkowa</td>\n",
       "      <td>Soczewka, Demon i Wielbłąd</td>\n",
       "      <td>20</td>\n",
       "      <td>VI.7</td>\n",
       "      <td>mieszana</td>\n",
       "      <td>ubezpieczona</td>\n",
       "    </tr>\n",
       "    <tr>\n",
       "      <th>4198</th>\n",
       "      <td>Pijane trójkąty</td>\n",
       "      <td>Góra Zamkowa</td>\n",
       "      <td>Wielka Cima</td>\n",
       "      <td>26</td>\n",
       "      <td>VI.7</td>\n",
       "      <td>mieszana</td>\n",
       "      <td>ubezpieczona</td>\n",
       "    </tr>\n",
       "    <tr>\n",
       "      <th>300</th>\n",
       "      <td>Batalion Skała</td>\n",
       "      <td>Pochylec</td>\n",
       "      <td>Pochylec</td>\n",
       "      <td>26</td>\n",
       "      <td>VI.7</td>\n",
       "      <td>mieszana</td>\n",
       "      <td>ubezpieczona</td>\n",
       "    </tr>\n",
       "    <tr>\n",
       "      <th>4397</th>\n",
       "      <td>Power Play</td>\n",
       "      <td>Pochylec</td>\n",
       "      <td>Pochylec</td>\n",
       "      <td>26</td>\n",
       "      <td>VI.7</td>\n",
       "      <td>mieszana</td>\n",
       "      <td>ubezpieczona</td>\n",
       "    </tr>\n",
       "    <tr>\n",
       "      <th>4186</th>\n",
       "      <td>Pierwszy krok ku doskonałości</td>\n",
       "      <td>Góra Zamkowa</td>\n",
       "      <td>Wielka Cima</td>\n",
       "      <td>25</td>\n",
       "      <td>VI.7</td>\n",
       "      <td>pionowa</td>\n",
       "      <td>ubezpieczona</td>\n",
       "    </tr>\n",
       "    <tr>\n",
       "      <th>5653</th>\n",
       "      <td>Skazani na szaszłyk</td>\n",
       "      <td>Zegarowe Skały</td>\n",
       "      <td>Jaskinia Jasna</td>\n",
       "      <td>14</td>\n",
       "      <td>VI.7</td>\n",
       "      <td>mieszana</td>\n",
       "      <td>ubezpieczona</td>\n",
       "    </tr>\n",
       "    <tr>\n",
       "      <th>1776</th>\n",
       "      <td>Fumar periudica</td>\n",
       "      <td>Grupa Mamutowej Skały</td>\n",
       "      <td>Jaskinia Mamutowa</td>\n",
       "      <td>25</td>\n",
       "      <td>VI.7</td>\n",
       "      <td>pionowa</td>\n",
       "      <td>ubezpieczona</td>\n",
       "    </tr>\n",
       "    <tr>\n",
       "      <th>4092</th>\n",
       "      <td>Parówa</td>\n",
       "      <td>Pochylec</td>\n",
       "      <td>Pochylec</td>\n",
       "      <td>28</td>\n",
       "      <td>VI.7</td>\n",
       "      <td>mieszana</td>\n",
       "      <td>ubezpieczona</td>\n",
       "    </tr>\n",
       "  </tbody>\n",
       "</table>\n",
       "</div>"
      ],
      "text/plain": [
       "                              Nazwa                  Rejon  \\\n",
       "3142                 Made in Poland           Góra Zamkowa   \n",
       "5797                  Sprawa honoru  Grupa Mamutowej Skały   \n",
       "192                    Arachnofobia                  Okręt   \n",
       "4055                    Pandemonium               Gołębnik   \n",
       "3778         Nieznośna lekkość bytu  Grupa Mamutowej Skały   \n",
       "207         Atak bezzębnego szkraba         Rejon Dziewicy   \n",
       "6006      Szaleństwo ludzi zdrowych  Grupa Mamutowej Skały   \n",
       "4396              Power of Love 1/2           Góra Zamkowa   \n",
       "2844               Las Vegas Parano  Grupa Mamutowej Skały   \n",
       "6081          Szydercze zwierciadło                  Zapad   \n",
       "3692           Nie dla psa kiełbasa               Pochylec   \n",
       "4922                     Prowokacja           Góra Zamkowa   \n",
       "4561    Prawie wszystko na sprzedaż           Góra Zamkowa   \n",
       "4198                Pijane trójkąty           Góra Zamkowa   \n",
       "300                  Batalion Skała               Pochylec   \n",
       "4397                     Power Play               Pochylec   \n",
       "4186  Pierwszy krok ku doskonałości           Góra Zamkowa   \n",
       "5653            Skazani na szaszłyk         Zegarowe Skały   \n",
       "1776                Fumar periudica  Grupa Mamutowej Skały   \n",
       "4092                         Parówa               Pochylec   \n",
       "\n",
       "                           Skała  Wysokość Trudność    Orientacja  \\\n",
       "3142                 Wielka Cima        30     VI.8      mieszana   \n",
       "5797           Jaskinia Mamutowa        30     VI.8      mieszana   \n",
       "192                        Okręt        14     VI.8       pionowa   \n",
       "4055                    Gołębnik        25     VI.8      mieszana   \n",
       "3778           Jaskinia Mamutowa        25  VI.7/7+  przewieszona   \n",
       "207                     Dziewica        15    VI.7+  przewieszona   \n",
       "6006           Jaskinia Mamutowa        25    VI.7+  przewieszona   \n",
       "4396                 Wielka Cima        20    VI.7+      mieszana   \n",
       "2844           Jaskinia Mamutowa        28    VI.7+      mieszana   \n",
       "6081                       Zapad        14    VI.7+      mieszana   \n",
       "3692                    Pochylec        28     VI.7      mieszana   \n",
       "4922        Lalka, Sfinks i Kapa         9     VI.7  przewieszona   \n",
       "4561  Soczewka, Demon i Wielbłąd        20     VI.7      mieszana   \n",
       "4198                 Wielka Cima        26     VI.7      mieszana   \n",
       "300                     Pochylec        26     VI.7      mieszana   \n",
       "4397                    Pochylec        26     VI.7      mieszana   \n",
       "4186                 Wielka Cima        25     VI.7       pionowa   \n",
       "5653              Jaskinia Jasna        14     VI.7      mieszana   \n",
       "1776           Jaskinia Mamutowa        25     VI.7       pionowa   \n",
       "4092                    Pochylec        28     VI.7      mieszana   \n",
       "\n",
       "     Ubezpieczenie  \n",
       "3142  ubezpieczona  \n",
       "5797  ubezpieczona  \n",
       "192   ubezpieczona  \n",
       "4055  ubezpieczona  \n",
       "3778  ubezpieczona  \n",
       "207   ubezpieczona  \n",
       "6006  ubezpieczona  \n",
       "4396  ubezpieczona  \n",
       "2844  ubezpieczona  \n",
       "6081  ubezpieczona  \n",
       "3692  ubezpieczona  \n",
       "4922  ubezpieczona  \n",
       "4561  ubezpieczona  \n",
       "4198  ubezpieczona  \n",
       "300   ubezpieczona  \n",
       "4397  ubezpieczona  \n",
       "4186  ubezpieczona  \n",
       "5653  ubezpieczona  \n",
       "1776  ubezpieczona  \n",
       "4092  ubezpieczona  "
      ]
     },
     "execution_count": 9,
     "metadata": {},
     "output_type": "execute_result"
    }
   ],
   "source": [
    "df.sort_values(by='Trudność', ascending=False).head(20)"
   ]
  },
  {
   "cell_type": "markdown",
   "id": "copyrighted-workshop",
   "metadata": {},
   "source": [
    "It may be also interesting to inspect which region has the most of the Polish sport climbing routes. For that I'm going to create another dataframe from grouped size of region rows."
   ]
  },
  {
   "cell_type": "code",
   "execution_count": 10,
   "id": "scheduled-newcastle",
   "metadata": {},
   "outputs": [
    {
     "data": {
      "text/html": [
       "<div>\n",
       "<style scoped>\n",
       "    .dataframe tbody tr th:only-of-type {\n",
       "        vertical-align: middle;\n",
       "    }\n",
       "\n",
       "    .dataframe tbody tr th {\n",
       "        vertical-align: top;\n",
       "    }\n",
       "\n",
       "    .dataframe thead th {\n",
       "        text-align: right;\n",
       "    }\n",
       "</style>\n",
       "<table border=\"1\" class=\"dataframe\">\n",
       "  <thead>\n",
       "    <tr style=\"text-align: right;\">\n",
       "      <th></th>\n",
       "      <th>Rejon</th>\n",
       "      <th>Ilość</th>\n",
       "    </tr>\n",
       "  </thead>\n",
       "  <tbody>\n",
       "    <tr>\n",
       "      <th>22</th>\n",
       "      <td>Dolina Brzoskwinki</td>\n",
       "      <td>268</td>\n",
       "    </tr>\n",
       "    <tr>\n",
       "      <th>194</th>\n",
       "      <td>Słoneczne Skały</td>\n",
       "      <td>215</td>\n",
       "    </tr>\n",
       "    <tr>\n",
       "      <th>67</th>\n",
       "      <td>Góra Zamkowa</td>\n",
       "      <td>174</td>\n",
       "    </tr>\n",
       "    <tr>\n",
       "      <th>158</th>\n",
       "      <td>Rejon Turni Lechfora</td>\n",
       "      <td>154</td>\n",
       "    </tr>\n",
       "    <tr>\n",
       "      <th>207</th>\n",
       "      <td>Wąwóz Ostryszni</td>\n",
       "      <td>119</td>\n",
       "    </tr>\n",
       "    <tr>\n",
       "      <th>221</th>\n",
       "      <td>Zegarowe Skały</td>\n",
       "      <td>108</td>\n",
       "    </tr>\n",
       "    <tr>\n",
       "      <th>153</th>\n",
       "      <td>Rejon Słonecznej</td>\n",
       "      <td>105</td>\n",
       "    </tr>\n",
       "    <tr>\n",
       "      <th>142</th>\n",
       "      <td>Rejon Dziewicy</td>\n",
       "      <td>102</td>\n",
       "    </tr>\n",
       "    <tr>\n",
       "      <th>227</th>\n",
       "      <td>Łyse Skały</td>\n",
       "      <td>100</td>\n",
       "    </tr>\n",
       "    <tr>\n",
       "      <th>140</th>\n",
       "      <td>Rejon Bońka</td>\n",
       "      <td>100</td>\n",
       "    </tr>\n",
       "    <tr>\n",
       "      <th>204</th>\n",
       "      <td>Witkowe Skały</td>\n",
       "      <td>98</td>\n",
       "    </tr>\n",
       "    <tr>\n",
       "      <th>63</th>\n",
       "      <td>Góra Birów</td>\n",
       "      <td>96</td>\n",
       "    </tr>\n",
       "    <tr>\n",
       "      <th>58</th>\n",
       "      <td>Grupa Zjazdowej Turni</td>\n",
       "      <td>95</td>\n",
       "    </tr>\n",
       "    <tr>\n",
       "      <th>206</th>\n",
       "      <td>Wzgórze 502</td>\n",
       "      <td>94</td>\n",
       "    </tr>\n",
       "    <tr>\n",
       "      <th>157</th>\n",
       "      <td>Rejon Turni Kukuczki</td>\n",
       "      <td>87</td>\n",
       "    </tr>\n",
       "    <tr>\n",
       "      <th>106</th>\n",
       "      <td>Nielepice</td>\n",
       "      <td>86</td>\n",
       "    </tr>\n",
       "    <tr>\n",
       "      <th>59</th>\n",
       "      <td>Grupa nad Źródełkiem</td>\n",
       "      <td>86</td>\n",
       "    </tr>\n",
       "    <tr>\n",
       "      <th>50</th>\n",
       "      <td>Grupa Mamutowej Skały</td>\n",
       "      <td>82</td>\n",
       "    </tr>\n",
       "    <tr>\n",
       "      <th>24</th>\n",
       "      <td>Dolina Racławki</td>\n",
       "      <td>76</td>\n",
       "    </tr>\n",
       "    <tr>\n",
       "      <th>133</th>\n",
       "      <td>Przy Zamku</td>\n",
       "      <td>75</td>\n",
       "    </tr>\n",
       "  </tbody>\n",
       "</table>\n",
       "</div>"
      ],
      "text/plain": [
       "                     Rejon  Ilość\n",
       "22      Dolina Brzoskwinki    268\n",
       "194        Słoneczne Skały    215\n",
       "67            Góra Zamkowa    174\n",
       "158   Rejon Turni Lechfora    154\n",
       "207        Wąwóz Ostryszni    119\n",
       "221         Zegarowe Skały    108\n",
       "153       Rejon Słonecznej    105\n",
       "142         Rejon Dziewicy    102\n",
       "227             Łyse Skały    100\n",
       "140            Rejon Bońka    100\n",
       "204          Witkowe Skały     98\n",
       "63              Góra Birów     96\n",
       "58   Grupa Zjazdowej Turni     95\n",
       "206            Wzgórze 502     94\n",
       "157   Rejon Turni Kukuczki     87\n",
       "106              Nielepice     86\n",
       "59    Grupa nad Źródełkiem     86\n",
       "50   Grupa Mamutowej Skały     82\n",
       "24         Dolina Racławki     76\n",
       "133             Przy Zamku     75"
      ]
     },
     "execution_count": 10,
     "metadata": {},
     "output_type": "execute_result"
    }
   ],
   "source": [
    "df_region = df.groupby(['Rejon']).size().reset_index(name='Ilość')\n",
    "df_region.sort_values(by='Ilość', ascending=False).head(20)"
   ]
  },
  {
   "cell_type": "markdown",
   "id": "social-treat",
   "metadata": {},
   "source": [
    "For further operations I need to give weight to difficulty scale, so it can be described in int value. "
   ]
  },
  {
   "cell_type": "code",
   "execution_count": 11,
   "id": "general-facial",
   "metadata": {},
   "outputs": [],
   "source": [
    "weight = {\n",
    " 'I': 1,\n",
    " 'II': 2,\n",
    " 'III': 3,\n",
    " 'III+': 4,\n",
    " 'IV': 6,\n",
    " 'IV+': 7,\n",
    " 'IV-': 5,\n",
    " 'V': 9,\n",
    " 'V+': 10,\n",
    " 'V-': 8,\n",
    " 'VI': 12,\n",
    " 'VI+': 13,\n",
    " 'VI+/1': 14,\n",
    " 'VI-': 11,\n",
    " 'VI.1': 15,\n",
    " 'VI.1+': 16,\n",
    " 'VI.1+/2': 17,\n",
    " 'VI.2': 18,\n",
    " 'VI.2+': 20,\n",
    " 'VI.2+/3': 21,\n",
    " 'VI.2/2+': 19,\n",
    " 'VI.3': 22,\n",
    " 'VI.3+': 24,\n",
    " 'VI.3+/4': 25,\n",
    " 'VI.3/3+': 23,\n",
    " 'VI.4': 26,\n",
    " 'VI.4+': 28,\n",
    " 'VI.4+/5': 29,\n",
    " 'VI.4/4+': 27,\n",
    " 'VI.5': 30,\n",
    " 'VI.5+': 32,\n",
    " 'VI.5+/6': 33,\n",
    " 'VI.5/5+': 31,\n",
    " 'VI.6': 34,\n",
    " 'VI.6+': 36,\n",
    " 'VI.6+/7': 37,\n",
    " 'VI.6/6+': 35,\n",
    " 'VI.7': 38,\n",
    " 'VI.7+': 40,\n",
    " 'VI.7/7+': 39,\n",
    " 'VI.8': 41}"
   ]
  },
  {
   "cell_type": "markdown",
   "id": "included-writing",
   "metadata": {},
   "source": [
    "Now I can plot relation between height, difficulty and amount of climbing routes."
   ]
  },
  {
   "cell_type": "code",
   "execution_count": 13,
   "id": "standing-advance",
   "metadata": {},
   "outputs": [
    {
     "data": {
      "text/plain": [
       "<matplotlib.axes._subplots.AxesSubplot at 0x7f97bd5baeb8>"
      ]
     },
     "execution_count": 13,
     "metadata": {},
     "output_type": "execute_result"
    },
    {
     "data": {
      "image/png": "[encoded data removed]",
      "text/plain": [
       "<Figure size 432x288 with 1 Axes>"
      ]
     },
     "metadata": {
      "needs_background": "light"
     },
     "output_type": "display_data"
    }
   ],
   "source": [
    "df_HD = df[['Trudność', 'Wysokość']]\n",
    "df_HD.loc[:, 'W_Trudność'] = [weight[key] for key in df_HD['Trudność']]\n",
    "df_HD = df_HD.groupby(by=['W_Trudność', 'Trudność', 'Wysokość']).size().reset_index(name='Ilość')\n",
    "df_HD.plot.scatter(x='Wysokość', y='W_Trudność', s=df_HD['Ilość']*0.3)"
   ]
  },
  {
   "cell_type": "markdown",
   "id": "curious-minimum",
   "metadata": {},
   "source": [
    "As we can see most of Polish sport climbing routes are between 10 and 20 meters high. Weighted difficulty of the most routes oscilates between 6 and 18, which means difficulties from IV to VI.2. Results seems to be expected as difficulties from IV to VI.2 cover the range from beginner to expert climbers. Routes rated below IV are considered suitable for entry level climbers. On the other hand routes above VI.2 level are reserved for most experienced climbers."
   ]
  },
  {
   "cell_type": "markdown",
   "id": "elegant-trunk",
   "metadata": {},
   "source": [
    "I decided to add next functionality to the database and created a simple script defining geolocalization for the regions in 'data.csv'. Script is called 'geoloc.py' and creates database called 'geoloc.csv'. Both are placed in the 'PLClimbingStats' folder. I'm going to import 'geoloc.csv' into the project as pandas dataframe."
   ]
  },
  {
   "cell_type": "code",
   "execution_count": 14,
   "id": "sustainable-taste",
   "metadata": {},
   "outputs": [
    {
     "data": {
      "text/html": [
       "<div>\n",
       "<style scoped>\n",
       "    .dataframe tbody tr th:only-of-type {\n",
       "        vertical-align: middle;\n",
       "    }\n",
       "\n",
       "    .dataframe tbody tr th {\n",
       "        vertical-align: top;\n",
       "    }\n",
       "\n",
       "    .dataframe thead th {\n",
       "        text-align: right;\n",
       "    }\n",
       "</style>\n",
       "<table border=\"1\" class=\"dataframe\">\n",
       "  <thead>\n",
       "    <tr style=\"text-align: right;\">\n",
       "      <th></th>\n",
       "      <th>Rejon</th>\n",
       "      <th>Szerokość</th>\n",
       "      <th>Długość</th>\n",
       "    </tr>\n",
       "  </thead>\n",
       "  <tbody>\n",
       "    <tr>\n",
       "      <th>0</th>\n",
       "      <td>Góra Zamkowa</td>\n",
       "      <td>49.355276</td>\n",
       "      <td>20.890936</td>\n",
       "    </tr>\n",
       "    <tr>\n",
       "      <th>1</th>\n",
       "      <td>Diabelskie Mosty</td>\n",
       "      <td>50.683146</td>\n",
       "      <td>19.410280</td>\n",
       "    </tr>\n",
       "    <tr>\n",
       "      <th>2</th>\n",
       "      <td>Suchy Połeć</td>\n",
       "      <td>50.459481</td>\n",
       "      <td>19.552958</td>\n",
       "    </tr>\n",
       "    <tr>\n",
       "      <th>3</th>\n",
       "      <td>Okiennik Będkowski</td>\n",
       "      <td>50.175333</td>\n",
       "      <td>19.745229</td>\n",
       "    </tr>\n",
       "    <tr>\n",
       "      <th>4</th>\n",
       "      <td>Gaj</td>\n",
       "      <td>49.523889</td>\n",
       "      <td>20.598056</td>\n",
       "    </tr>\n",
       "  </tbody>\n",
       "</table>\n",
       "</div>"
      ],
      "text/plain": [
       "                Rejon  Szerokość    Długość\n",
       "0        Góra Zamkowa  49.355276  20.890936\n",
       "1    Diabelskie Mosty  50.683146  19.410280\n",
       "2         Suchy Połeć  50.459481  19.552958\n",
       "3  Okiennik Będkowski  50.175333  19.745229\n",
       "4                 Gaj  49.523889  20.598056"
      ]
     },
     "execution_count": 14,
     "metadata": {},
     "output_type": "execute_result"
    }
   ],
   "source": [
    "df_loc = pd.read_csv('geoloc.csv', names=['Rejon', 'Szerokość', 'Długość'])\n",
    "df_loc.head()"
   ]
  },
  {
   "cell_type": "code",
   "execution_count": 15,
   "id": "natural-ending",
   "metadata": {},
   "outputs": [
    {
     "data": {
      "text/plain": [
       "144"
      ]
     },
     "execution_count": 15,
     "metadata": {},
     "output_type": "execute_result"
    }
   ],
   "source": [
    "len(df_loc)"
   ]
  },
  {
   "cell_type": "code",
   "execution_count": 16,
   "id": "damaged-subdivision",
   "metadata": {},
   "outputs": [
    {
     "data": {
      "text/plain": [
       "87"
      ]
     },
     "execution_count": 16,
     "metadata": {},
     "output_type": "execute_result"
    }
   ],
   "source": [
    "df['Rejon'].nunique() - len(df_loc)"
   ]
  },
  {
   "cell_type": "markdown",
   "id": "married-charles",
   "metadata": {},
   "source": [
    "Script 'geoloc.py' uses geopy and Nominatim to search for localization. As we can see some of regions are missing, simply because they were not found. Also, some of the rows have wrong values for sure. I'm going to tighten area to Jura Krakowsko-Częstochowska."
   ]
  },
  {
   "cell_type": "code",
   "execution_count": 17,
   "id": "fatal-denver",
   "metadata": {},
   "outputs": [],
   "source": [
    "df_loc = df_loc[((df_loc['Szerokość'] <= 50.9) & (df_loc['Szerokość'] >= 49.9)) & ((df_loc['Długość'] >= 18.9) & (df_loc['Długość'] <= 20.2))]"
   ]
  },
  {
   "cell_type": "code",
   "execution_count": 18,
   "id": "paperback-vegetarian",
   "metadata": {},
   "outputs": [
    {
     "data": {
      "text/plain": [
       "115"
      ]
     },
     "execution_count": 18,
     "metadata": {},
     "output_type": "execute_result"
    }
   ],
   "source": [
    "len(df_loc)"
   ]
  },
  {
   "cell_type": "markdown",
   "id": "sublime-summary",
   "metadata": {},
   "source": [
    "Procedure took away a bunch of obviously wrong localized regions. Let's see where are most of the climbing regions in Poland."
   ]
  },
  {
   "cell_type": "code",
   "execution_count": 19,
   "id": "greek-basin",
   "metadata": {},
   "outputs": [
    {
     "data": {
      "text/plain": [
       "<matplotlib.axes._subplots.AxesSubplot at 0x7f97bd5a98d0>"
      ]
     },
     "execution_count": 19,
     "metadata": {},
     "output_type": "execute_result"
    },
    {
     "data": {
      "image/png": "[encoded data removed]",
      "text/plain": [
       "<Figure size 432x288 with 1 Axes>"
      ]
     },
     "metadata": {
      "needs_background": "light"
     },
     "output_type": "display_data"
    }
   ],
   "source": [
    "df_loc.plot.scatter(x='Długość', y='Szerokość')"
   ]
  },
  {
   "cell_type": "markdown",
   "id": "naughty-sculpture",
   "metadata": {},
   "source": [
    "Most of the regions seem to be located in area of longitude between 19.65° and 20° and latitude between 50° and 50,3°. Let's include amount of climbing routes as chart point size and plot results. I will use dataframes 'df_regions' and 'df_loc' to exclude regions with missing/corrupted localization. Then I will include longitude and latitude from 'df_loc'."
   ]
  },
  {
   "cell_type": "code",
   "execution_count": 20,
   "id": "distant-international",
   "metadata": {},
   "outputs": [],
   "source": [
    "df_region_loc = df_region[df_region['Rejon'].isin(df_loc['Rejon'])]\n",
    "df_region_loc.loc[:, 'Szerokość'] = [df_loc['Szerokość'][df_loc['Rejon'] == x].values[0]  for x in df_region_loc['Rejon']]\n",
    "df_region_loc.loc[:, 'Długość'] = [df_loc['Długość'][df_loc['Rejon'] == x].values[0]  for x in df_region_loc['Rejon']]"
   ]
  },
  {
   "cell_type": "code",
   "execution_count": 21,
   "id": "average-salmon",
   "metadata": {},
   "outputs": [
    {
     "data": {
      "text/plain": [
       "3395"
      ]
     },
     "execution_count": 21,
     "metadata": {},
     "output_type": "execute_result"
    }
   ],
   "source": [
    "sum(df_region_loc['Ilość'])"
   ]
  },
  {
   "cell_type": "markdown",
   "id": "commercial-margin",
   "metadata": {},
   "source": [
    "Unfortunately about 50% of database is lost during the process. Hopefully remaining info is good enough. Let's plot upgraded chart."
   ]
  },
  {
   "cell_type": "code",
   "execution_count": 22,
   "id": "operating-orchestra",
   "metadata": {},
   "outputs": [
    {
     "data": {
      "text/plain": [
       "<matplotlib.axes._subplots.AxesSubplot at 0x7f97bd509470>"
      ]
     },
     "execution_count": 22,
     "metadata": {},
     "output_type": "execute_result"
    },
    {
     "data": {
      "image/png": "[encoded data removed]",
      "text/plain": [
       "<Figure size 432x288 with 1 Axes>"
      ]
     },
     "metadata": {
      "needs_background": "light"
     },
     "output_type": "display_data"
    }
   ],
   "source": [
    "df_region_loc.plot.scatter(x='Długość', y='Szerokość', s=df_region_loc['Ilość'], alpha = 0.7)"
   ]
  },
  {
   "cell_type": "markdown",
   "id": "republican-cream",
   "metadata": {},
   "source": [
    "Now it seems to be clear - if you're arriving to Jura for climbing, the most interesting place for you is around geopoint of 50.2° , 19.75°. But maybe you're experienced, or maybe just started your climbing adventure? Let's see if the trend still stands for various route difficulties. \n",
    "\n",
    "As we know, there are many levels on difficulty scale. To simplify statistics let's define three hypothetic stages of climbing proficiency:\n",
    "\n",
    "    Beginner - difficulties including and below 'V', which is weighted as 9 in our scale,\n",
    "    Intermediate - difficulties between 'IV+' and 'VI.3', which are weighted from 7 to 22,\n",
    "    Expert - difficulties including and above 'VI.2+', weighted as 20.\n",
    "\n",
    "To proceed I need to create another dataframe including amount of routes in certain difficulties with regions and localization included."
   ]
  },
  {
   "cell_type": "code",
   "execution_count": 23,
   "id": "advised-render",
   "metadata": {},
   "outputs": [],
   "source": [
    "df_diff_region = df.groupby(['Rejon', 'Trudność']).size().reset_index(name='Ilość')\n",
    "df_diff_region = df_diff_region[df_diff_region['Rejon'].isin(df_loc['Rejon'])]\n",
    "df_diff_region.loc[:, 'W_Trudność'] = [weight[key] for key in df_diff_region['Trudność']]\n",
    "df_diff_region.loc[:, 'Szerokość'] = [df_loc['Szerokość'][df_loc['Rejon'] == x].values[0]  for x in df_diff_region['Rejon']]\n",
    "df_diff_region.loc[:, 'Długość'] = [df_loc['Długość'][df_loc['Rejon'] == x].values[0]  for x in df_diff_region['Rejon']]"
   ]
  },
  {
   "cell_type": "markdown",
   "id": "frank-begin",
   "metadata": {},
   "source": [
    "Now let's group dataframe three times, depending of defined scale."
   ]
  },
  {
   "cell_type": "code",
   "execution_count": 24,
   "id": "smaller-malaysia",
   "metadata": {},
   "outputs": [],
   "source": [
    "df_diff_region_beginner = df_diff_region[df_diff_region['W_Trudność'] <= 9].groupby(['Rejon', 'Szerokość', 'Długość']).size().reset_index(name='Ilość')\n",
    "df_diff_region_intermediate = df_diff_region[(df_diff_region['W_Trudność'] >= 7) & (df_diff_region['W_Trudność'] <= 22)].groupby(['Rejon', 'Szerokość', 'Długość']).size().reset_index(name='Ilość')\n",
    "df_diff_region_expert = df_diff_region[df_diff_region['W_Trudność'] >= 20].groupby(['Rejon', 'Szerokość', 'Długość']).size().reset_index(name='Ilość')"
   ]
  },
  {
   "cell_type": "markdown",
   "id": "suffering-delaware",
   "metadata": {},
   "source": [
    "It's finally time to plot charts from prepared dataframes."
   ]
  },
  {
   "cell_type": "code",
   "execution_count": 25,
   "id": "false-leone",
   "metadata": {},
   "outputs": [
    {
     "data": {
      "text/plain": [
       "<matplotlib.axes._subplots.AxesSubplot at 0x7f97bd4cf080>"
      ]
     },
     "execution_count": 25,
     "metadata": {},
     "output_type": "execute_result"
    },
    {
     "data": {
      "image/png": "[encoded data removed]",
      "text/plain": [
       "<Figure size 432x288 with 1 Axes>"
      ]
     },
     "metadata": {
      "needs_background": "light"
     },
     "output_type": "display_data"
    }
   ],
   "source": [
    "df_diff_region_beginner.plot.scatter(x='Długość', y='Szerokość', s=df_diff_region_beginner['Ilość']*10, alpha = 0.7)"
   ]
  },
  {
   "cell_type": "code",
   "execution_count": 26,
   "id": "desperate-paris",
   "metadata": {},
   "outputs": [
    {
     "data": {
      "text/plain": [
       "<matplotlib.axes._subplots.AxesSubplot at 0x7f97bd44dbe0>"
      ]
     },
     "execution_count": 26,
     "metadata": {},
     "output_type": "execute_result"
    },
    {
     "data": {
      "image/png": "[encoded data removed]",
      "text/plain": [
       "<Figure size 432x288 with 1 Axes>"
      ]
     },
     "metadata": {
      "needs_background": "light"
     },
     "output_type": "display_data"
    }
   ],
   "source": [
    "df_diff_region_intermediate.plot.scatter(x='Długość', y='Szerokość', s=df_diff_region_intermediate['Ilość']*10, alpha = 0.7)"
   ]
  },
  {
   "cell_type": "code",
   "execution_count": 27,
   "id": "considered-voltage",
   "metadata": {},
   "outputs": [
    {
     "data": {
      "text/plain": [
       "<matplotlib.axes._subplots.AxesSubplot at 0x7f97bd4338d0>"
      ]
     },
     "execution_count": 27,
     "metadata": {},
     "output_type": "execute_result"
    },
    {
     "data": {
      "image/png": "[encoded data removed]",
      "text/plain": [
       "<Figure size 432x288 with 1 Axes>"
      ]
     },
     "metadata": {
      "needs_background": "light"
     },
     "output_type": "display_data"
    }
   ],
   "source": [
    "df_diff_region_expert.plot.scatter(x='Długość', y='Szerokość', s=df_diff_region_expert['Ilość']*10, alpha = 0.7)"
   ]
  },
  {
   "cell_type": "markdown",
   "id": "fifty-popularity",
   "metadata": {},
   "source": [
    "Trends keep appearing in all three advancement levels. Although you have to be aware of amount/size scaling of the last three charts, which is ten times bigger than on the summed chart from above."
   ]
  }
 ],
 "metadata": {
  "kernelspec": {
   "display_name": "Python 3",
   "language": "python",
   "name": "python3"
  },
  "language_info": {
   "codemirror_mode": {
    "name": "ipython",
    "version": 3
   },
   "file_extension": ".py",
   "mimetype": "text/x-python",
   "name": "python",
   "nbconvert_exporter": "python",
   "pygments_lexer": "ipython3",
   "version": "3.7.2"
  }
 },
 "nbformat": 4,
 "nbformat_minor": 5
}
