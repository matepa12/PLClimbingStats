{
 "cells": [
  {
   "cell_type": "markdown",
   "id": "separate-traveler",
   "metadata": {},
   "source": [
    "# Sport climbing situation in Poland"
   ]
  },
  {
   "cell_type": "markdown",
   "id": "juvenile-century",
   "metadata": {},
   "source": [
    "In this project I would like to extract some in-depth knowledge about sport climbing situation in Poland. The base of my project will be data web scrapped from site 'wspinanie.pl'. The site provides large database of climbing routes in Poland and abroad. I will put my interest specifically on the most popular Polish climbing area - Jura Krakowsko-Częstochowska. Let's begin!"
   ]
  },
  {
   "cell_type": "markdown",
   "id": "primary-validity",
   "metadata": {},
   "source": [
    "The first step would be importing important packages."
   ]
  },
  {
   "cell_type": "code",
   "execution_count": 1,
   "id": "bright-cisco",
   "metadata": {},
   "outputs": [],
   "source": [
    "import numpy as np\n",
    "import pandas as pd\n",
    "%matplotlib inline"
   ]
  },
  {
   "cell_type": "markdown",
   "id": "straight-investor",
   "metadata": {},
   "source": [
    "The next step would be importing database into the project as pandas dataframes. Database called 'data.csv' is file created by Python script called 'web_scraping.py'. Both are placed in the '/PLClimbingStats' folder."
   ]
  },
  {
   "cell_type": "code",
   "execution_count": 2,
   "id": "comfortable-interface",
   "metadata": {},
   "outputs": [
    {
     "data": {
      "text/html": [
       "<div>\n",
       "<style scoped>\n",
       "    .dataframe tbody tr th:only-of-type {\n",
       "        vertical-align: middle;\n",
       "    }\n",
       "\n",
       "    .dataframe tbody tr th {\n",
       "        vertical-align: top;\n",
       "    }\n",
       "\n",
       "    .dataframe thead th {\n",
       "        text-align: right;\n",
       "    }\n",
       "</style>\n",
       "<table border=\"1\" class=\"dataframe\">\n",
       "  <thead>\n",
       "    <tr style=\"text-align: right;\">\n",
       "      <th></th>\n",
       "      <th>Nazwa</th>\n",
       "      <th>Rejon</th>\n",
       "      <th>Skała</th>\n",
       "      <th>Wysokość</th>\n",
       "      <th>Trudność</th>\n",
       "      <th>Orientacja</th>\n",
       "      <th>Ubezpieczenie</th>\n",
       "    </tr>\n",
       "  </thead>\n",
       "  <tbody>\n",
       "    <tr>\n",
       "      <th>0</th>\n",
       "      <td>Bramki Na Wyjeździe Liczą Się Podwójnie</td>\n",
       "      <td>Karniowickie Skały</td>\n",
       "      <td>Trybuna A</td>\n",
       "      <td>6</td>\n",
       "      <td>V+</td>\n",
       "      <td>pionowa</td>\n",
       "      <td>ubezpieczona</td>\n",
       "    </tr>\n",
       "    <tr>\n",
       "      <th>1</th>\n",
       "      <td>Cześć i dziękuję za ryby</td>\n",
       "      <td>Apteka</td>\n",
       "      <td>Apteka - ściana północno-wschodnia</td>\n",
       "      <td>2</td>\n",
       "      <td>IV+</td>\n",
       "      <td>pionowa</td>\n",
       "      <td>ubezpieczona</td>\n",
       "    </tr>\n",
       "    <tr>\n",
       "      <th>2</th>\n",
       "      <td>Debiut w Dubiu</td>\n",
       "      <td>Dolina Racławki</td>\n",
       "      <td>Jupiter</td>\n",
       "      <td>4</td>\n",
       "      <td>V</td>\n",
       "      <td>pionowa</td>\n",
       "      <td>ubezpieczona</td>\n",
       "    </tr>\n",
       "    <tr>\n",
       "      <th>3</th>\n",
       "      <td>Drobne cwaniaczki</td>\n",
       "      <td>Góra Zamkowa</td>\n",
       "      <td>Biały Filar i Dziurawa</td>\n",
       "      <td>5</td>\n",
       "      <td>VI.2</td>\n",
       "      <td>pionowa</td>\n",
       "      <td>ubezpieczona</td>\n",
       "    </tr>\n",
       "    <tr>\n",
       "      <th>4</th>\n",
       "      <td>Droga Bały (2 wyciąg)</td>\n",
       "      <td>Sokolica</td>\n",
       "      <td>Sokolica</td>\n",
       "      <td>0</td>\n",
       "      <td>IV</td>\n",
       "      <td>pionowa</td>\n",
       "      <td>asekuracja własna</td>\n",
       "    </tr>\n",
       "  </tbody>\n",
       "</table>\n",
       "</div>"
      ],
      "text/plain": [
       "                                     Nazwa               Rejon  \\\n",
       "0  Bramki Na Wyjeździe Liczą Się Podwójnie  Karniowickie Skały   \n",
       "1                 Cześć i dziękuję za ryby              Apteka   \n",
       "2                           Debiut w Dubiu     Dolina Racławki   \n",
       "3                        Drobne cwaniaczki        Góra Zamkowa   \n",
       "4                    Droga Bały (2 wyciąg)            Sokolica   \n",
       "\n",
       "                                Skała  Wysokość Trudność Orientacja  \\\n",
       "0                           Trybuna A         6       V+    pionowa   \n",
       "1  Apteka - ściana północno-wschodnia         2      IV+    pionowa   \n",
       "2                             Jupiter         4        V    pionowa   \n",
       "3              Biały Filar i Dziurawa         5     VI.2    pionowa   \n",
       "4                            Sokolica         0       IV    pionowa   \n",
       "\n",
       "       Ubezpieczenie  \n",
       "0       ubezpieczona  \n",
       "1       ubezpieczona  \n",
       "2       ubezpieczona  \n",
       "3       ubezpieczona  \n",
       "4  asekuracja własna  "
      ]
     },
     "execution_count": 2,
     "metadata": {},
     "output_type": "execute_result"
    }
   ],
   "source": [
    "df = pd.read_csv('data.csv', names=['Nazwa', 'Rejon', 'Skała', 'Wysokość', 'Trudność', 'Orientacja', 'Ubezpieczenie'])\n",
    "df.head()"
   ]
  },
  {
   "cell_type": "markdown",
   "id": "reliable-ordinance",
   "metadata": {},
   "source": [
    "Loaded dataframe consists of 7 columns and 7148 rows. I used attibute 'names=' to specify column names, because data.csv doesn't provide ones."
   ]
  },
  {
   "cell_type": "code",
   "execution_count": null,
   "id": "therapeutic-station",
   "metadata": {},
   "outputs": [],
   "source": []
  }
 ],
 "metadata": {
  "kernelspec": {
   "display_name": "Python 3",
   "language": "python",
   "name": "python3"
  },
  "language_info": {
   "codemirror_mode": {
    "name": "ipython",
    "version": 3
   },
   "file_extension": ".py",
   "mimetype": "text/x-python",
   "name": "python",
   "nbconvert_exporter": "python",
   "pygments_lexer": "ipython3",
   "version": "3.7.2"
  }
 },
 "nbformat": 4,
 "nbformat_minor": 5
}
