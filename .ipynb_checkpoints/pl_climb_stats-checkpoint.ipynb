{
 "cells": [
  {
   "cell_type": "markdown",
   "id": "designing-capture",
   "metadata": {},
   "source": [
    "# Sport climbing situation in Poland"
   ]
  },
  {
   "cell_type": "markdown",
   "id": "orange-concern",
   "metadata": {},
   "source": [
    "In this project I would like to extract some in-depth knowledge about sprot climbing situation in Poland. The base of my project will be data web scrapped from site 'wspinanie.pl'. The site provides large database of climbing routes in Poland and abroad. I will put my interest specifically on the most popular Polish climbing area - Jura Krakowsko-Częstochowska. Let's begin!"
   ]
  },
  {
   "cell_type": "markdown",
   "id": "related-extreme",
   "metadata": {},
   "source": [
    "The first step would be importing important packages."
   ]
  },
  {
   "cell_type": "code",
   "execution_count": 1,
   "id": "hidden-jamaica",
   "metadata": {},
   "outputs": [],
   "source": [
    "import numpy as np\n",
    "import pandas as pd\n",
    "%matplotlib inline"
   ]
  },
  {
   "cell_type": "markdown",
   "id": "fancy-diagnosis",
   "metadata": {},
   "source": [
    "The next step would be importing database into the project as pandas dataframes. Database called 'data.csv' is file created by Python script called 'web_scraping.py'. Both are placed in the '/PLClimbingStats' folder."
   ]
  },
  {
   "cell_type": "code",
   "execution_count": null,
   "id": "plain-application",
   "metadata": {},
   "outputs": [],
   "source": []
  }
 ],
 "metadata": {
  "kernelspec": {
   "display_name": "Python 3",
   "language": "python",
   "name": "python3"
  },
  "language_info": {
   "codemirror_mode": {
    "name": "ipython",
    "version": 3
   },
   "file_extension": ".py",
   "mimetype": "text/x-python",
   "name": "python",
   "nbconvert_exporter": "python",
   "pygments_lexer": "ipython3",
   "version": "3.7.2"
  }
 },
 "nbformat": 4,
 "nbformat_minor": 5
}
